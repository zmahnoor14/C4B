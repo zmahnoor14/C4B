{
 "cells": [
  {
   "cell_type": "code",
   "execution_count": 88,
   "metadata": {},
   "outputs": [],
   "source": [
    "from pymongo import MongoClient\n",
    "from pprint import pprint\n",
    "import pandas as pd\n",
    "from math import*\n",
    "import csv\n",
    "\n",
    "import plotly as py\n",
    "import plotly.graph_objs as go\n",
    "#from plotly.tools import figure_factory\n",
    "import numpy as np\n",
    "\n",
    "import scipy\n",
    "import seaborn as sns\n",
    "import matplotlib.pyplot as plt\n",
    "from scipy import stats\n",
    "sns.set(color_codes=True)\n",
    "\n",
    "import sklearn\n",
    "from sklearn.ensemble import RandomForestClassifier\n",
    "from sklearn.model_selection import train_test_split\n",
    "from sklearn.tree import export_graphviz\n",
    "from sklearn.metrics import precision_score, recall_score, roc_auc_score, roc_curve\n",
    "from sklearn.model_selection import RandomizedSearchCV\n",
    "\n",
    "\n",
    "from subprocess import call\n",
    "\n",
    "\n",
    "\n",
    "\n",
    "# connect to MongoDB, change the << MONGODB URL >> to reflect your own connection string\n",
    "client = MongoClient(\"localhost:27017\")\n",
    "db=client.COCONUTapril\n",
    "# Issue the serverStatus command and print the results\n",
    "serverStatusResult=db.command(\"serverStatus\")\n",
    "\n",
    "\n",
    "#pprint(serverStatusResult)\n",
    "\n",
    "\n",
    "from rdkit import Chem\n",
    "from rdkit.Chem import AllChem as Chem\n",
    "from rdkit.Chem import Draw\n",
    "\n",
    "from rdkit.Chem.Scaffolds import MurckoScaffold\n",
    "from rdkit.SimDivFilters.rdSimDivPickers import MaxMinPicker\n",
    "from rdkit.Chem.rdMolDescriptors import GetMorganFingerprint\n",
    "from rdkit import DataStructs\n"
   ]
  },
  {
   "cell_type": "code",
   "execution_count": 152,
   "metadata": {},
   "outputs": [],
   "source": [
    "def evaluate_model(predictions, probs, train_predictions, train_probs):\n",
    "    \"\"\"Compare machine learning model to baseline performance.\n",
    "    Computes statistics and shows ROC curve.\"\"\"\n",
    "    \n",
    "    baseline = {}\n",
    "    \n",
    "    baseline['recall'] = recall_score(test_labels, [1 for _ in range(len(test_labels))])\n",
    "    baseline['precision'] = precision_score(test_labels, [1 for _ in range(len(test_labels))])\n",
    "    baseline['roc'] = 0.5\n",
    "    \n",
    "    results = {}\n",
    "    \n",
    "    results['recall'] = recall_score(test_labels, predictions)\n",
    "    results['precision'] = precision_score(test_labels, predictions)\n",
    "    results['roc'] = roc_auc_score(test_labels, probs)\n",
    "    \n",
    "    train_results = {}\n",
    "    train_results['recall'] = recall_score(train_labels, train_predictions)\n",
    "    train_results['precision'] = precision_score(train_labels, train_predictions)\n",
    "    train_results['roc'] = roc_auc_score(train_labels, train_probs)\n",
    "    \n",
    "    for metric in ['recall', 'precision', 'roc']:\n",
    "        print(f'{metric.capitalize()} Baseline: {round(baseline[metric], 2)} Test: {round(results[metric], 2)} Train: {round(train_results[metric], 2)}')\n",
    "    \n",
    "    # Calculate false positive rates and true positive rates\n",
    "    base_fpr, base_tpr, _ = roc_curve(test_labels, [1 for _ in range(len(test_labels))])\n",
    "    model_fpr, model_tpr, _ = roc_curve(test_labels, probs)\n",
    "\n",
    "    plt.figure(figsize = (8, 6))\n",
    "    plt.rcParams['font.size'] = 16\n",
    "    # Plot both curves\n",
    "    plt.plot(base_fpr, base_tpr, 'b', label = 'baseline')\n",
    "    plt.plot(model_fpr, model_tpr, 'r', label = 'model')\n",
    "    plt.legend();\n",
    "    plt.xlabel('False Positive Rate'); plt.ylabel('True Positive Rate'); plt.title('ROC Curves');"
   ]
  },
  {
   "cell_type": "code",
   "execution_count": 153,
   "metadata": {},
   "outputs": [],
   "source": [
    "from sklearn.metrics import confusion_matrix\n",
    "import itertools\n",
    "\n",
    "def plot_confusion_matrix(cm, classes,\n",
    "                          normalize=False,\n",
    "                          title='Confusion matrix',\n",
    "                          cmap=plt.cm.Oranges):\n",
    "    \"\"\"\n",
    "    This function prints and plots the confusion matrix.\n",
    "    Normalization can be applied by setting `normalize=True`.\n",
    "    Source: http://scikit-learn.org/stable/auto_examples/model_selection/plot_confusion_matrix.html\n",
    "    \"\"\"\n",
    "    if normalize:\n",
    "        cm = cm.astype('float') / cm.sum(axis=1)[:, np.newaxis]\n",
    "        print(\"Normalized confusion matrix\")\n",
    "    else:\n",
    "        print('Confusion matrix, without normalization')\n",
    "\n",
    "    print(cm)\n",
    "\n",
    "    plt.figure(figsize = (10, 10))\n",
    "    plt.imshow(cm, interpolation='nearest', cmap=cmap)\n",
    "    plt.title(title, size = 24)\n",
    "    plt.colorbar(aspect=4)\n",
    "    tick_marks = np.arange(len(classes))\n",
    "    plt.xticks(tick_marks, classes, rotation=45, size = 14)\n",
    "    plt.yticks(tick_marks, classes, size = 14)\n",
    "\n",
    "    fmt = '.2f' if normalize else 'd'\n",
    "    thresh = cm.max() / 2.\n",
    "    # Labeling the plot\n",
    "    for i, j in itertools.product(range(cm.shape[0]), range(cm.shape[1])):\n",
    "        plt.text(j, i, format(cm[i, j], fmt), fontsize = 20,\n",
    "                 horizontalalignment=\"center\",\n",
    "                 color=\"white\" if cm[i, j] > thresh else \"black\")\n",
    "        \n",
    "    plt.grid(None)\n",
    "    plt.tight_layout()\n",
    "    plt.ylabel('True label', size = 18)\n",
    "    plt.xlabel('Predicted label', size = 18)"
   ]
  },
  {
   "cell_type": "code",
   "execution_count": 154,
   "metadata": {},
   "outputs": [],
   "source": [
    "collection = db.uniqueNaturalProduct.find({\"$and\": [{\"textTaxa\":\"bacteria\"}, {\"textTaxa\": {\"$size\":1}}]})\n",
    "bacteria = pd.DataFrame(list(collection))\n",
    "del bacteria['_id']\n",
    "del bacteria['_class']\n",
    "\n",
    "collection = db.uniqueNaturalProduct.find({\"$and\": [{\"textTaxa\":\"plants\"}, {\"textTaxa\": {\"$size\":1}}]})\n",
    "plant = pd.DataFrame(list(collection))\n",
    "del plant['_id']\n",
    "del plant['_class']\n",
    "\n",
    "collection = db.uniqueNaturalProduct.find({\"$and\": [{\"textTaxa\":\"fungi\"}, {\"textTaxa\": {\"$size\":1}}]})\n",
    "fungi = pd.DataFrame(list(collection))\n",
    "del fungi['_id']\n",
    "del fungi['_class']\n",
    "\n",
    "collection = db.uniqueNaturalProduct.find({\"$and\": [{\"textTaxa\":\"marine\"}, {\"textTaxa\": {\"$size\":1}}]})\n",
    "marine = pd.DataFrame(list(collection))\n",
    "del marine['_id']\n",
    "del marine['_class']"
   ]
  },
  {
   "cell_type": "code",
   "execution_count": 155,
   "metadata": {},
   "outputs": [
    {
     "name": "stdout",
     "output_type": "stream",
     "text": [
      "number of bacterial NPs: 1745\n",
      "number of plant NPs: 72427\n",
      "number of fungi NPs: 1701\n",
      "number of marine NPs: 9820\n"
     ]
    }
   ],
   "source": [
    "print(\"number of bacterial NPs: \"+str(len(bacteria)))\n",
    "print(\"number of plant NPs: \"+str(len(plant)))\n",
    "print(\"number of fungi NPs: \"+str(len(fungi)))\n",
    "print(\"number of marine NPs: \"+str(len(marine)))"
   ]
  },
  {
   "cell_type": "code",
   "execution_count": 156,
   "metadata": {},
   "outputs": [],
   "source": [
    "#make subsets of data\n",
    "\n",
    "#bacteria: no need\n",
    "bacteria_ids = []\n",
    "for index, line in bacteria.iterrows():\n",
    "    bacteria_ids.append(line[\"coconut_id\"])\n",
    "\n"
   ]
  },
  {
   "cell_type": "code",
   "execution_count": 157,
   "metadata": {},
   "outputs": [],
   "source": [
    "#marine : extract 600\n",
    "\n",
    "\n",
    "marine_ids_tmp = []\n",
    "marine_mols = []\n",
    "for index, line in marine.iterrows():\n",
    "    marine_mols.append(Chem.MolFromSmiles(line[\"smiles\"]))\n",
    "    marine_ids_tmp.append(line[\"coconut_id\"])\n",
    "    \n",
    "tmp_ids = marine_ids_tmp[:]\n",
    "tmp_mols = marine_mols[:]\n",
    "\n",
    "for i in range(len(marine_mols)-1, -1, -1):\n",
    "    if marine_mols[i] == None:\n",
    "        tmp_mols.pop(i)\n",
    "        tmp_ids.pop(i)\n",
    "        \n",
    "marine_mols = tmp_mols \n",
    "marine_ids_tmp = tmp_ids    \n",
    "        \n",
    "fps = [GetMorganFingerprint(x,3) for x in marine_mols]\n",
    "nfps = len(fps)\n",
    "\n",
    "def distij(i,j,fps=fps):\n",
    "    return 1-DataStructs.DiceSimilarity(fps[i],fps[j])\n",
    "\n",
    "picker = MaxMinPicker()\n",
    "pickIndices = picker.LazyPick(distij,nfps,650,seed=23)\n",
    "\n",
    "marine_ids = [marine_ids_tmp[x] for x in pickIndices] #only smiles (normally)\n"
   ]
  },
  {
   "cell_type": "code",
   "execution_count": 158,
   "metadata": {},
   "outputs": [],
   "source": [
    "# fungi: extract 600\n",
    "fungi_ids_tmp = []\n",
    "fungi_mols = []\n",
    "for index, line in fungi.iterrows():\n",
    "    fungi_mols.append(Chem.MolFromSmiles(line[\"smiles\"]))\n",
    "    fungi_ids_tmp.append(line[\"coconut_id\"])\n",
    "    \n",
    "tmp_ids = fungi_ids_tmp[:]\n",
    "tmp_mols = fungi_mols[:]\n",
    "\n",
    "for i in range(len(fungi_mols)-1, -1, -1):\n",
    "    if fungi_mols[i] == None:\n",
    "        tmp_mols.pop(i)\n",
    "        tmp_ids.pop(i)\n",
    "        \n",
    "fungi_mols = tmp_mols \n",
    "fungi_ids_tmp = tmp_ids    \n",
    "        \n",
    "fps = [GetMorganFingerprint(x,3) for x in fungi_mols]\n",
    "nfps = len(fps)\n",
    "\n",
    "def distij(i,j,fps=fps):\n",
    "    return 1-DataStructs.DiceSimilarity(fps[i],fps[j])\n",
    "\n",
    "picker = MaxMinPicker()\n",
    "pickIndices = picker.LazyPick(distij,nfps,650,seed=23)\n",
    "\n",
    "fungi_ids = [fungi_ids_tmp[x] for x in pickIndices] #only smiles (normally)\n"
   ]
  },
  {
   "cell_type": "code",
   "execution_count": 159,
   "metadata": {},
   "outputs": [],
   "source": [
    "#plant: extract 600\n",
    "\n",
    "plant_ids_tmp = []\n",
    "plant_mols = []\n",
    "for index, line in plant.iterrows():\n",
    "    plant_mols.append(Chem.MolFromSmiles(line[\"smiles\"]))\n",
    "    plant_ids_tmp.append(line[\"coconut_id\"])\n",
    "    \n",
    "tmp_ids = plant_ids_tmp\n",
    "tmp_mols = plant_mols\n",
    "\n",
    "\n",
    "for i in range(len(plant_mols)-1, -1, -1):\n",
    "    if plant_mols[i] == None:\n",
    "        tmp_mols.pop(i)\n",
    "        tmp_ids.pop(i)\n",
    "        \n",
    "plant_mols = tmp_mols \n",
    "plant_ids_tmp = tmp_ids    \n",
    "        \n",
    "fps = [GetMorganFingerprint(x,3) for x in plant_mols]\n",
    "nfps = len(fps)\n",
    "\n",
    "def distij(i,j,fps=fps):\n",
    "    return 1-DataStructs.DiceSimilarity(fps[i],fps[j])\n",
    "\n",
    "picker = MaxMinPicker()\n",
    "pickIndices = picker.LazyPick(distij,nfps,650,seed=23)\n",
    "\n",
    "plant_ids = [plant_ids_tmp[x] for x in pickIndices] #only smiles (normally)\n"
   ]
  },
  {
   "cell_type": "code",
   "execution_count": 160,
   "metadata": {},
   "outputs": [],
   "source": [
    "#extract the features : EFG\n",
    "\n",
    "efg = db.uniqueNaturalProduct.distinct(\"ertlFunctionalFragments\")\n",
    "\n",
    "efg_set = set()\n",
    "\n",
    "for item in efg:\n",
    "    #item is a dic\n",
    "    for fg in item.keys():\n",
    "        efg_set.add(fg)\n",
    "\n",
    "efg_list = list(efg_set)"
   ]
  },
  {
   "cell_type": "code",
   "execution_count": null,
   "metadata": {},
   "outputs": [],
   "source": []
  },
  {
   "cell_type": "code",
   "execution_count": 161,
   "metadata": {},
   "outputs": [
    {
     "name": "stdout",
     "output_type": "stream",
     "text": [
      "32\n"
     ]
    }
   ],
   "source": [
    "# create data table with molecular descriptors\n",
    "\n",
    "\n",
    "columns_list = [\"heavy_atom_number\", \"molecular_weight\", \"npl_score\", \"npl_sugar_score\", \"number_of_carbons\", \"number_of_nitrogens\", \"number_of_oxygens\", \"number_of_rings\", \"bond_count\", \"alogp\", \"amralogp\", \"apol\", \"bpol\", \"eccentricConnectivityIndexDescriptor\", \"fmfDescriptor\", \"fsp3\", \"fragmentComplexityDescriptor\", \"hybridizationRatioDescriptor\", \"kappaShapeIndex1\", \"manholdlogp\", \"petitjeanNumber\", \"petitjeanShapeTopo\", \"lipinskiRuleOf5Failures\", \"numberSpiroAtoms\", \"vertexAdjMagnitude\", \"weinerPathNumber\", \"weinerPolarityNumber\", \"xlogp\", \"zagrebIndex\", \"topoPSA\", \"tpsaEfficiency\", \"isBacteria\"]\n",
    "print(len(columns_list))\n",
    "\n",
    "\n",
    "indexes_list = marine_ids+bacteria_ids+fungi_ids+plant_ids\n",
    "\n",
    "\n",
    "all_data = pd.DataFrame(columns=columns_list, index=indexes_list)\n",
    "\n"
   ]
  },
  {
   "cell_type": "code",
   "execution_count": 162,
   "metadata": {},
   "outputs": [],
   "source": [
    "#marine\n",
    "for index, line in marine.iterrows():\n",
    "    if line[\"coconut_id\"] in marine_ids:\n",
    "        cid= line[\"coconut_id\"]\n",
    "        features_list = [0] * (len(columns_list)-1)\n",
    "        for feature in columns_list[:-1]:\n",
    "            features_list[columns_list.index(feature)] = line[feature]\n",
    "        \n",
    "        features_list.append(0)\n",
    "        all_data.loc[cid] = features_list\n",
    "            "
   ]
  },
  {
   "cell_type": "code",
   "execution_count": 163,
   "metadata": {},
   "outputs": [],
   "source": [
    "#bacteria\n",
    "for index, line in bacteria.iterrows():\n",
    "    if line[\"coconut_id\"] in bacteria_ids:\n",
    "        cid= line[\"coconut_id\"]\n",
    "        features_list = [0] * (len(columns_list)-1)\n",
    "        for feature in columns_list[:-1]:\n",
    "            features_list[columns_list.index(feature)] = line[feature]\n",
    "        \n",
    "        features_list.append(1)\n",
    "        all_data.loc[cid] = features_list\n",
    "            "
   ]
  },
  {
   "cell_type": "code",
   "execution_count": 164,
   "metadata": {},
   "outputs": [],
   "source": [
    "#fungi\n",
    "for index, line in fungi.iterrows():\n",
    "    if line[\"coconut_id\"] in fungi_ids:\n",
    "        cid= line[\"coconut_id\"]\n",
    "        features_list = [0] * (len(columns_list)-1)\n",
    "        for feature in columns_list[:-1]:\n",
    "            features_list[columns_list.index(feature)] = line[feature]\n",
    "        \n",
    "        features_list.append(0)\n",
    "        all_data.loc[cid] = features_list\n",
    "            "
   ]
  },
  {
   "cell_type": "code",
   "execution_count": 165,
   "metadata": {},
   "outputs": [],
   "source": [
    "#plant\n",
    "for index, line in plant.iterrows():\n",
    "    if line[\"coconut_id\"] in plant_ids:\n",
    "        cid= line[\"coconut_id\"]\n",
    "        features_list = [0] * (len(columns_list)-1)\n",
    "        for feature in columns_list[:-1]:\n",
    "            features_list[columns_list.index(feature)] = line[feature]\n",
    "        \n",
    "        features_list.append(0)\n",
    "        all_data.loc[cid] = features_list\n",
    "            "
   ]
  },
  {
   "cell_type": "code",
   "execution_count": 166,
   "metadata": {},
   "outputs": [],
   "source": [
    "all_data.to_csv(r'bacteria_trainin_molecular_descriptors_data.csv', index = True)\n"
   ]
  },
  {
   "cell_type": "code",
   "execution_count": null,
   "metadata": {},
   "outputs": [],
   "source": [
    "\n",
    "\n"
   ]
  },
  {
   "cell_type": "code",
   "execution_count": 167,
   "metadata": {},
   "outputs": [],
   "source": [
    "train_data = all_data.copy()\n",
    "\n",
    "\n",
    "# Extract the labels\n",
    "labels = np.array(train_data.pop('isBacteria'))\n",
    "\n",
    "train_data = train_data.astype(float)\n",
    "# 30% examples in test data\n",
    "train, test, train_labels, test_labels = train_test_split(train_data, labels, stratify = labels,\n",
    "                                                          test_size = 0.3)"
   ]
  },
  {
   "cell_type": "code",
   "execution_count": 168,
   "metadata": {},
   "outputs": [],
   "source": [
    "#imputation of missing values\n",
    "\n",
    "train = train.fillna(train.mean())\n",
    "test = test.fillna(test.mean())\n",
    "\n",
    "# Features for feature importances\n",
    "features = list(train.columns)"
   ]
  },
  {
   "cell_type": "code",
   "execution_count": 169,
   "metadata": {},
   "outputs": [],
   "source": [
    "train_labels = train_labels.astype(bool)\n",
    "test_labels = test_labels.astype(bool)"
   ]
  },
  {
   "cell_type": "code",
   "execution_count": 170,
   "metadata": {},
   "outputs": [
    {
     "data": {
      "text/plain": [
       "(1109, 31)"
      ]
     },
     "execution_count": 170,
     "metadata": {},
     "output_type": "execute_result"
    }
   ],
   "source": [
    "test.shape\n"
   ]
  },
  {
   "cell_type": "code",
   "execution_count": 171,
   "metadata": {},
   "outputs": [],
   "source": [
    "# Create the model with 100 trees\n",
    "model = RandomForestClassifier(n_estimators=100, \n",
    "                               max_features = 'sqrt',\n",
    "                               n_jobs=-1, verbose = 1)"
   ]
  },
  {
   "cell_type": "code",
   "execution_count": 172,
   "metadata": {},
   "outputs": [
    {
     "name": "stderr",
     "output_type": "stream",
     "text": [
      "[Parallel(n_jobs=-1)]: Using backend ThreadingBackend with 4 concurrent workers.\n",
      "[Parallel(n_jobs=-1)]: Done  42 tasks      | elapsed:    0.2s\n",
      "[Parallel(n_jobs=-1)]: Done 100 out of 100 | elapsed:    0.5s finished\n"
     ]
    },
    {
     "data": {
      "text/plain": [
       "RandomForestClassifier(bootstrap=True, ccp_alpha=0.0, class_weight=None,\n",
       "                       criterion='gini', max_depth=None, max_features='sqrt',\n",
       "                       max_leaf_nodes=None, max_samples=None,\n",
       "                       min_impurity_decrease=0.0, min_impurity_split=None,\n",
       "                       min_samples_leaf=1, min_samples_split=2,\n",
       "                       min_weight_fraction_leaf=0.0, n_estimators=100,\n",
       "                       n_jobs=-1, oob_score=False, random_state=None, verbose=1,\n",
       "                       warm_start=False)"
      ]
     },
     "execution_count": 172,
     "metadata": {},
     "output_type": "execute_result"
    }
   ],
   "source": [
    "model.fit(train, train_labels)\n"
   ]
  },
  {
   "cell_type": "code",
   "execution_count": 173,
   "metadata": {},
   "outputs": [
    {
     "name": "stdout",
     "output_type": "stream",
     "text": [
      "Average number of nodes 729\n",
      "Average maximum depth 22\n"
     ]
    }
   ],
   "source": [
    "n_nodes = []\n",
    "max_depths = []\n",
    "\n",
    "for ind_tree in model.estimators_:\n",
    "    n_nodes.append(ind_tree.tree_.node_count)\n",
    "    max_depths.append(ind_tree.tree_.max_depth)\n",
    "    \n",
    "print(f'Average number of nodes {int(np.mean(n_nodes))}')\n",
    "print(f'Average maximum depth {int(np.mean(max_depths))}')"
   ]
  },
  {
   "cell_type": "code",
   "execution_count": 174,
   "metadata": {},
   "outputs": [
    {
     "name": "stderr",
     "output_type": "stream",
     "text": [
      "[Parallel(n_jobs=4)]: Using backend ThreadingBackend with 4 concurrent workers.\n",
      "[Parallel(n_jobs=4)]: Done  42 tasks      | elapsed:    0.0s\n",
      "[Parallel(n_jobs=4)]: Done 100 out of 100 | elapsed:    0.1s finished\n",
      "[Parallel(n_jobs=4)]: Using backend ThreadingBackend with 4 concurrent workers.\n",
      "[Parallel(n_jobs=4)]: Done  42 tasks      | elapsed:    0.0s\n",
      "[Parallel(n_jobs=4)]: Done 100 out of 100 | elapsed:    0.0s finished\n",
      "[Parallel(n_jobs=4)]: Using backend ThreadingBackend with 4 concurrent workers.\n",
      "[Parallel(n_jobs=4)]: Done  42 tasks      | elapsed:    0.0s\n",
      "[Parallel(n_jobs=4)]: Done 100 out of 100 | elapsed:    0.0s finished\n",
      "[Parallel(n_jobs=4)]: Using backend ThreadingBackend with 4 concurrent workers.\n",
      "[Parallel(n_jobs=4)]: Done  42 tasks      | elapsed:    0.0s\n",
      "[Parallel(n_jobs=4)]: Done 100 out of 100 | elapsed:    0.0s finished\n"
     ]
    }
   ],
   "source": [
    "train_rf_predictions = model.predict(train)\n",
    "train_rf_probs = model.predict_proba(train)[:, 1]\n",
    "\n",
    "rf_predictions = model.predict(test)\n",
    "rf_probs = model.predict_proba(test)[:, 1]"
   ]
  },
  {
   "cell_type": "code",
   "execution_count": 175,
   "metadata": {},
   "outputs": [
    {
     "name": "stdout",
     "output_type": "stream",
     "text": [
      "Recall Baseline: 1.0 Test: 0.79 Train: 1.0\n",
      "Precision Baseline: 0.47 Test: 0.8 Train: 1.0\n",
      "Roc Baseline: 0.5 Test: 0.88 Train: 1.0\n"
     ]
    },
    {
     "data": {
      "image/png": "[encoded data removed]",
      "text/plain": [
       "<Figure size 576x432 with 1 Axes>"
      ]
     },
     "metadata": {},
     "output_type": "display_data"
    }
   ],
   "source": [
    "evaluate_model(rf_predictions, rf_probs, train_rf_predictions, train_rf_probs)\n"
   ]
  },
  {
   "cell_type": "code",
   "execution_count": 185,
   "metadata": {},
   "outputs": [
    {
     "name": "stdout",
     "output_type": "stream",
     "text": [
      "Confusion matrix, without normalization\n",
      "[[451 134]\n",
      " [111 413]]\n"
     ]
    },
    {
     "data": {
      "image/png": "[encoded data removed]",
      "text/plain": [
       "<Figure size 720x720 with 2 Axes>"
      ]
     },
     "metadata": {},
     "output_type": "display_data"
    }
   ],
   "source": [
    "cm = confusion_matrix(test_labels, rf_predictions)\n",
    "plot_confusion_matrix(cm, classes = [\"0\", \"1\"],\n",
    "                      title = 'Confusion Matrix')"
   ]
  },
  {
   "cell_type": "code",
   "execution_count": 177,
   "metadata": {},
   "outputs": [],
   "source": [
    "fi_model = pd.DataFrame({'feature': features,\n",
    "                   'importance': model.feature_importances_}).\\\n",
    "                    sort_values('importance', ascending = False)\n"
   ]
  },
  {
   "cell_type": "code",
   "execution_count": 178,
   "metadata": {},
   "outputs": [
    {
     "data": {
      "text/html": [
       "<div>\n",
       "<style scoped>\n",
       "    .dataframe tbody tr th:only-of-type {\n",
       "        vertical-align: middle;\n",
       "    }\n",
       "\n",
       "    .dataframe tbody tr th {\n",
       "        vertical-align: top;\n",
       "    }\n",
       "\n",
       "    .dataframe thead th {\n",
       "        text-align: right;\n",
       "    }\n",
       "</style>\n",
       "<table border=\"1\" class=\"dataframe\">\n",
       "  <thead>\n",
       "    <tr style=\"text-align: right;\">\n",
       "      <th></th>\n",
       "      <th>feature</th>\n",
       "      <th>importance</th>\n",
       "    </tr>\n",
       "  </thead>\n",
       "  <tbody>\n",
       "    <tr>\n",
       "      <th>29</th>\n",
       "      <td>topoPSA</td>\n",
       "      <td>0.077184</td>\n",
       "    </tr>\n",
       "    <tr>\n",
       "      <th>30</th>\n",
       "      <td>tpsaEfficiency</td>\n",
       "      <td>0.068065</td>\n",
       "    </tr>\n",
       "    <tr>\n",
       "      <th>6</th>\n",
       "      <td>number_of_oxygens</td>\n",
       "      <td>0.065221</td>\n",
       "    </tr>\n",
       "    <tr>\n",
       "      <th>3</th>\n",
       "      <td>npl_sugar_score</td>\n",
       "      <td>0.048757</td>\n",
       "    </tr>\n",
       "    <tr>\n",
       "      <th>27</th>\n",
       "      <td>xlogp</td>\n",
       "      <td>0.046330</td>\n",
       "    </tr>\n",
       "    <tr>\n",
       "      <th>2</th>\n",
       "      <td>npl_score</td>\n",
       "      <td>0.042259</td>\n",
       "    </tr>\n",
       "    <tr>\n",
       "      <th>25</th>\n",
       "      <td>weinerPathNumber</td>\n",
       "      <td>0.041272</td>\n",
       "    </tr>\n",
       "    <tr>\n",
       "      <th>9</th>\n",
       "      <td>alogp</td>\n",
       "      <td>0.039495</td>\n",
       "    </tr>\n",
       "    <tr>\n",
       "      <th>13</th>\n",
       "      <td>eccentricConnectivityIndexDescriptor</td>\n",
       "      <td>0.034913</td>\n",
       "    </tr>\n",
       "    <tr>\n",
       "      <th>1</th>\n",
       "      <td>molecular_weight</td>\n",
       "      <td>0.034821</td>\n",
       "    </tr>\n",
       "  </tbody>\n",
       "</table>\n",
       "</div>"
      ],
      "text/plain": [
       "                                 feature  importance\n",
       "29                               topoPSA    0.077184\n",
       "30                        tpsaEfficiency    0.068065\n",
       "6                      number_of_oxygens    0.065221\n",
       "3                        npl_sugar_score    0.048757\n",
       "27                                 xlogp    0.046330\n",
       "2                              npl_score    0.042259\n",
       "25                      weinerPathNumber    0.041272\n",
       "9                                  alogp    0.039495\n",
       "13  eccentricConnectivityIndexDescriptor    0.034913\n",
       "1                       molecular_weight    0.034821"
      ]
     },
     "execution_count": 178,
     "metadata": {},
     "output_type": "execute_result"
    }
   ],
   "source": [
    "fi_model.head(10)"
   ]
  },
  {
   "cell_type": "code",
   "execution_count": 179,
   "metadata": {},
   "outputs": [
    {
     "name": "stdout",
     "output_type": "stream",
     "text": [
      "Fitting 3 folds for each of 50 candidates, totalling 150 fits\n"
     ]
    },
    {
     "name": "stderr",
     "output_type": "stream",
     "text": [
      "[Parallel(n_jobs=-1)]: Using backend LokyBackend with 4 concurrent workers.\n",
      "[Parallel(n_jobs=-1)]: Done  42 tasks      | elapsed:   30.0s\n",
      "[Parallel(n_jobs=-1)]: Done 150 out of 150 | elapsed:  1.2min finished\n"
     ]
    },
    {
     "data": {
      "text/plain": [
       "RandomizedSearchCV(cv=3, error_score=nan,\n",
       "                   estimator=RandomForestClassifier(bootstrap=True,\n",
       "                                                    ccp_alpha=0.0,\n",
       "                                                    class_weight=None,\n",
       "                                                    criterion='gini',\n",
       "                                                    max_depth=None,\n",
       "                                                    max_features='auto',\n",
       "                                                    max_leaf_nodes=None,\n",
       "                                                    max_samples=None,\n",
       "                                                    min_impurity_decrease=0.0,\n",
       "                                                    min_impurity_split=None,\n",
       "                                                    min_samples_leaf=1,\n",
       "                                                    min_samples_split=2,\n",
       "                                                    min_weight_fraction_leaf=0.0,\n",
       "                                                    n_estimators=100,\n",
       "                                                    n_jobs...\n",
       "                                                           11, 12, 12, 12, 12, ...],\n",
       "                                        'min_samples_split': [2, 5, 10],\n",
       "                                        'n_estimators': array([ 10,  13,  17,  21,  25,  29,  33,  37,  41,  44,  48,  52,  56,\n",
       "        60,  64,  68,  72,  75,  79,  83,  87,  91,  95,  99, 103, 106,\n",
       "       110, 114, 118, 122, 126, 130, 134, 137, 141, 145, 149, 153, 157,\n",
       "       161, 165, 168, 172, 176, 180, 184, 188, 192, 196, 200])},\n",
       "                   pre_dispatch='2*n_jobs', random_state=None, refit=True,\n",
       "                   return_train_score=False, scoring='roc_auc', verbose=1)"
      ]
     },
     "execution_count": 179,
     "metadata": {},
     "output_type": "execute_result"
    }
   ],
   "source": [
    "# Hyperparameter grid\n",
    "param_grid = {\n",
    "    'n_estimators': np.linspace(10, 200).astype(int),\n",
    "    'max_depth': [None] + list(np.linspace(3, 20).astype(int)),\n",
    "    'max_features': ['auto', 'sqrt', None] + list(np.arange(0.5, 1, 0.1)),\n",
    "    'max_leaf_nodes': [None] + list(np.linspace(10, 50, 500).astype(int)),\n",
    "    'min_samples_split': [2, 5, 10],\n",
    "    'bootstrap': [True, False]\n",
    "}\n",
    "\n",
    "# Estimator for use in random search\n",
    "estimator = RandomForestClassifier()\n",
    "\n",
    "# Create the random search model\n",
    "rs = RandomizedSearchCV(estimator, param_grid, n_jobs = -1, \n",
    "                        scoring = 'roc_auc', cv = 3, \n",
    "                        n_iter = 50, verbose = 1)\n",
    "\n",
    "# Fit \n",
    "rs.fit(train, train_labels)"
   ]
  },
  {
   "cell_type": "code",
   "execution_count": 180,
   "metadata": {},
   "outputs": [
    {
     "data": {
      "text/plain": [
       "{'n_estimators': 168,\n",
       " 'min_samples_split': 10,\n",
       " 'max_leaf_nodes': 49,\n",
       " 'max_features': 0.8999999999999999,\n",
       " 'max_depth': 15,\n",
       " 'bootstrap': True}"
      ]
     },
     "execution_count": 180,
     "metadata": {},
     "output_type": "execute_result"
    }
   ],
   "source": [
    "rs.best_params_\n"
   ]
  },
  {
   "cell_type": "code",
   "execution_count": 181,
   "metadata": {},
   "outputs": [],
   "source": [
    "best_model = rs.best_estimator_\n",
    "\n",
    "train_rf_predictions = best_model.predict(train)\n",
    "train_rf_probs = best_model.predict_proba(train)[:, 1]\n",
    "\n",
    "rf_predictions = best_model.predict(test)\n",
    "rf_probs = best_model.predict_proba(test)[:, 1]"
   ]
  },
  {
   "cell_type": "code",
   "execution_count": 182,
   "metadata": {},
   "outputs": [
    {
     "name": "stdout",
     "output_type": "stream",
     "text": [
      "Average number of nodes 97\n",
      "Average maximum depth 12\n"
     ]
    }
   ],
   "source": [
    "n_nodes = []\n",
    "max_depths = []\n",
    "\n",
    "for ind_tree in best_model.estimators_:\n",
    "    n_nodes.append(ind_tree.tree_.node_count)\n",
    "    max_depths.append(ind_tree.tree_.max_depth)\n",
    "    \n",
    "print(f'Average number of nodes {int(np.mean(n_nodes))}')\n",
    "print(f'Average maximum depth {int(np.mean(max_depths))}')"
   ]
  },
  {
   "cell_type": "code",
   "execution_count": 183,
   "metadata": {},
   "outputs": [
    {
     "name": "stdout",
     "output_type": "stream",
     "text": [
      "Recall Baseline: 1.0 Test: 0.79 Train: 0.85\n",
      "Precision Baseline: 0.47 Test: 0.76 Train: 0.83\n",
      "Roc Baseline: 0.5 Test: 0.86 Train: 0.93\n"
     ]
    },
    {
     "data": {
      "image/png": "[encoded data removed]",
      "text/plain": [
       "<Figure size 576x432 with 1 Axes>"
      ]
     },
     "metadata": {},
     "output_type": "display_data"
    }
   ],
   "source": [
    "evaluate_model(rf_predictions, rf_probs, train_rf_predictions, train_rf_probs)\n"
   ]
  },
  {
   "cell_type": "code",
   "execution_count": 186,
   "metadata": {},
   "outputs": [
    {
     "name": "stdout",
     "output_type": "stream",
     "text": [
      "Confusion matrix, without normalization\n",
      "[[451 134]\n",
      " [111 413]]\n"
     ]
    },
    {
     "data": {
      "image/png": "[encoded data removed]",
      "text/plain": [
       "<Figure size 720x720 with 2 Axes>"
      ]
     },
     "metadata": {},
     "output_type": "display_data"
    }
   ],
   "source": [
    "cm = confusion_matrix(test_labels, rf_predictions)\n",
    "plot_confusion_matrix(cm, classes = [\"0\", \"1\"],\n",
    "                      title = 'Confusion Matrix')"
   ]
  },
  {
   "cell_type": "code",
   "execution_count": null,
   "metadata": {},
   "outputs": [],
   "source": []
  }
 ],
 "metadata": {
  "kernelspec": {
   "display_name": "Python 3",
   "language": "python",
   "name": "python3"
  },
  "language_info": {
   "codemirror_mode": {
    "name": "ipython",
    "version": 3
   },
   "file_extension": ".py",
   "mimetype": "text/x-python",
   "name": "python",
   "nbconvert_exporter": "python",
   "pygments_lexer": "ipython3",
   "version": "3.7.10"
  }
 },
 "nbformat": 4,
 "nbformat_minor": 2
}
